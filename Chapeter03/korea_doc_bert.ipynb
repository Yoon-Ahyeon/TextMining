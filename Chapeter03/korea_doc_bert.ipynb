{
 "cells": [
  {
   "cell_type": "markdown",
   "source": [
    "## 한국어 문서에 대한 BERT 활용\n",
    "\n",
    "다중 언어 BERT 사전학습 모형의 미세조정 학습\n",
    "\n",
    "BERT는 영어 이외에도 사전학습 모형을 지원한다.\n",
    "언어 모델로만 학습한 기본 학습 모형으로 bert-base-multilingual-uncased, bert-base-multilingual-cased가 있다.\n",
    "현재, bert-base-multilingual-cased가 더 많이 추천되고 있다.\n",
    "\n",
    "<한국어에 특화된 BERT 모형>\n",
    "1 . SKTBrain의 KoBERT\n",
    "2 . ETRI의 KorBERT (사용허가협약서가 필요)"
   ],
   "metadata": {
    "collapsed": false
   }
  },
  {
   "cell_type": "code",
   "execution_count": null,
   "outputs": [],
   "source": [
    "#### 영화 리뷰를 읽기\n",
    "\n",
    "import pandas as pd\n",
    "import numpy as np\n",
    "from sklearn.model_selection import train_test_splitimport tensorflow as tf\n",
    "\n",
    "def create_dataset(inputs, labels):\n",
    "    # 입력과 레이블을 텐서로 변환\n",
    "    inputs_tensors = {key: tf.convert_to_tensor(val) for key, val in inputs.items()}\n",
    "    labels_tensors = tf.convert_to_tensor(labels)\n",
    "\n",
    "    # 텐서로부터 데이터셋 생성\n",
    "    dataset = tf.data.Dataset.from_tensor_slices((inputs_tensors, labels_tensors))\n",
    "    return dataset\n",
    "\n",
    "# 훈련 및 테스트 데이터셋 생성\n",
    "train_dataset = create_dataset(train_input, y_train)\n",
    "test_dataset = create_dataset(test_input, y_test)"
   ],
   "metadata": {
    "collapsed": false
   }
  }
 ],
 "metadata": {
  "kernelspec": {
   "display_name": "Python 3",
   "language": "python",
   "name": "python3"
  },
  "language_info": {
   "codemirror_mode": {
    "name": "ipython",
    "version": 2
   },
   "file_extension": ".py",
   "mimetype": "text/x-python",
   "name": "python",
   "nbconvert_exporter": "python",
   "pygments_lexer": "ipython2",
   "version": "2.7.6"
  }
 },
 "nbformat": 4,
 "nbformat_minor": 0
}
