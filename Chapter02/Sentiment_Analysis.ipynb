{
 "cells": [
  {
   "cell_type": "markdown",
   "source": [
    "## 감성 분석\n",
    "\n",
    "감성 : 어떤 대상에 대한 주관적인 감정으로 보통 긍정, 중립, 부정으로 나누어진다.\n",
    "중립은 감정 없이 객관적인 정보만을 전달하는 텍스트이다.\n",
    "극성 : 감성의 정도\n",
    "보통 극성은 감성 분석의 과정에서 숫자로 표현되며 0이면 중립, 양수이면 긍정, 음수이면 부정을 나타낸다.\n",
    "\n",
    "#### 감성 분석 방법론\n",
    "- 어휘 기반 감성 분석\n",
    "- 기계 학습 기반 감성 분석"
   ],
   "metadata": {
    "collapsed": false
   }
  },
  {
   "cell_type": "markdown",
   "source": [
    "### 1. 어휘 기반 감성 분석\n",
    "\n",
    "감성이 표현될 수 있는 명사, 형용사, 동사를 대상으로 모든 단어에 대해 긍정 혹은 부정의 감성을 붙여서 감성 사전을 구축한 후에, 이를 기반으로 텍스트에 대한 감성 분석을 수행하는 방식이다.\n",
    "\n",
    "감성 사전으로부터 각 단어들에 대한 감성 값을 가져온 후에 이를 조합해 텍스트에 대한 감성을 계산한다.\n",
    "\n",
    "청킹(chunking) : 문장의 형태소를 분석하고 다시 이를 명사구, 형용사구와 같은 구로 묶는 방법\n",
    "청킹을 수행한 후에 밑의 단어로부터 상위의 구로 이동하면서 단계적으로 긍정/부정을 결정한다.\n",
    "\n",
    "#### 2. 머신러닝 기반 감성 분석\n",
    "\n",
    "**학습용으로 리뷰와 그 리뷰에 대한 감성이 라벨로 짝지어진 학습 데이터셋이 반드시 있어야한다.**\n",
    "이는 머신러닝을 통해 긍정/중립/부정으로 분류하는 문서 분류 문제로 본다.\n",
    "\n",
    "머신러닝 기반의 감성 분석은 학습에 사용한 말뭉치의 영향을 많이 받는다. 그렇기에, 다른 데이터에 전이하여 사용하기에는 무리가 있다.\n"
   ],
   "metadata": {
    "collapsed": false
   }
  },
  {
   "cell_type": "markdown",
   "source": [
    "#### 감성 사전을 이용한 영화 리뷰 감성 분석"
   ],
   "metadata": {
    "collapsed": false
   }
  },
  {
   "cell_type": "code",
   "execution_count": 1,
   "outputs": [
    {
     "name": "stderr",
     "output_type": "stream",
     "text": [
      "[nltk_data] Downloading package movie_reviews to\n",
      "[nltk_data]     C:\\Users\\ahyeo\\AppData\\Roaming\\nltk_data...\n",
      "[nltk_data]   Package movie_reviews is already up-to-date!\n"
     ]
    },
    {
     "data": {
      "text/plain": "True"
     },
     "execution_count": 1,
     "metadata": {},
     "output_type": "execute_result"
    }
   ],
   "source": [
    "## 데이터 준비\n",
    "import nltk\n",
    "nltk.download(\"movie_reviews\")"
   ],
   "metadata": {
    "collapsed": false
   }
  },
  {
   "cell_type": "code",
   "execution_count": 1,
   "outputs": [
    {
     "name": "stdout",
     "output_type": "stream",
     "text": [
      "#review count :  2000\n",
      "#samples of file ids: ['neg/cv000_29416.txt', 'neg/cv001_19502.txt', 'neg/cv002_17424.txt', 'neg/cv003_12683.txt', 'neg/cv004_12641.txt', 'neg/cv005_29357.txt', 'neg/cv006_17022.txt', 'neg/cv007_4992.txt', 'neg/cv008_29326.txt', 'neg/cv009_29417.txt']\n",
      "#categories of reviews: ['neg', 'pos']\n",
      "#num of \"neg\" reviews: 1000\n",
      "#num of \"pos\" reviews: 1000\n",
      "#id of the first review: neg/cv000_29416.txt\n",
      "#part of the first review: plot : two teen couples go to a church party , drink and then drive . \n",
      "they get into an accident . \n",
      "one of the guys dies , but his girlfriend continues to see him in her life , and has nightmares . \n",
      "what's the deal ? \n",
      "watch the movie and \" sorta \" find out . . . \n",
      "critique : a mind-fuck movie for the teen generation that touches on a very cool idea , but presents it in a very bad package . \n",
      "which is what makes this review an even harder one to write , since i generally applaud films which attempt\n",
      "#sentiment of the first review: ['neg']\n"
     ]
    }
   ],
   "source": [
    "from nltk.corpus import movie_reviews\n",
    "\n",
    "print(\"#review count : \", len(movie_reviews.fileids())) #영화 리뷰 문서의 id(제목) 반환\n",
    "print('#samples of file ids:', movie_reviews.fileids()[:10]) #id를 10개까지만 출력\n",
    "print('#categories of reviews:', movie_reviews.categories()) # label, 즉 긍정인지 부정인지에 대한 분류\n",
    "print('#num of \"neg\" reviews:', len(movie_reviews.fileids(categories='neg'))) #label이 부정인 문서들의 id를 반환\n",
    "print('#num of \"pos\" reviews:', len(movie_reviews.fileids(categories='pos'))) #label이 긍정인 문서들의 id를 반환\n",
    "\n",
    "fileid = movie_reviews.fileids()[0] #첫번째 문서의 id를 반환\n",
    "print('#id of the first review:', fileid)\n",
    "print('#part of the first review:', movie_reviews.raw(fileid)[:500]) #첫번째 문서의 내용을 500자까지만 출력\n",
    "print('#sentiment of the first review:', movie_reviews.categories(fileid)) #첫번째 문서의 감성"
   ],
   "metadata": {
    "collapsed": false
   }
  },
  {
   "cell_type": "code",
   "execution_count": 2,
   "outputs": [],
   "source": [
    "fileids = movie_reviews.fileids() #movie review data에서 file 제목을 가져옴\n",
    "reviews = [movie_reviews.raw(fileid) for fileid in fileids] #file 제목을 이용해 raw text file을 가져옴\n",
    "categories = [movie_reviews.categories(fileid)[0] for fileid in fileids] #감정(극성)을 가져옴"
   ],
   "metadata": {
    "collapsed": false
   }
  },
  {
   "cell_type": "markdown",
   "source": [
    "#### TextBlob을 이용한 감성 분석\n",
    "\n",
    "polarity : 감성을 나타내는 극성\n",
    "subjectivity : 0.0과 1.0 사이의 실수로, 0에 가까울수록 객관적, 1에 가까울수록 주관적임을 의미한다.\n",
    "\n",
    "positive와 negative만 존재할 때에는 \"중립\"은 부정으로 판단한다.\n",
    "\n",
    "TextBlob 라이브러리는 정확도 함수를 제공하지 않으므로, scikit-learn의 accuracy_score을 불러와 정확도를 확인해야한다.\n",
    "\n",
    "감성사전을 사용하는 것은 **정확도가 높지 않다.**"
   ],
   "metadata": {
    "collapsed": false
   }
  },
  {
   "cell_type": "code",
   "execution_count": 8,
   "outputs": [
    {
     "name": "stdout",
     "output_type": "stream",
     "text": [
      "Sentiment(polarity=0.06479782948532947, subjectivity=0.5188408350908352)\n"
     ]
    }
   ],
   "source": [
    "from textblob import TextBlob\n",
    "\n",
    "result = TextBlob(reviews[0]) #극성은 0.06으로 약한 긍정\n",
    "print(result.sentiment) #주관성은 0.5로 중간"
   ],
   "metadata": {
    "collapsed": false
   }
  },
  {
   "cell_type": "code",
   "execution_count": 11,
   "outputs": [],
   "source": [
    "def sentimnet_TextBlob(docs):\n",
    "    results= []\n",
    "\n",
    "    for doc in docs:\n",
    "        testimonial = TextBlob(doc)\n",
    "        if testimonial.sentiment.polarity > 0:\n",
    "            results.append('pos')\n",
    "        else:\n",
    "            results.append('neg')\n",
    "    return results"
   ],
   "metadata": {
    "collapsed": false
   }
  },
  {
   "cell_type": "code",
   "execution_count": 12,
   "outputs": [
    {
     "name": "stdout",
     "output_type": "stream",
     "text": [
      "#TextBlob을 이용한 리뷰 감성분석의 정확도:  0.6\n"
     ]
    }
   ],
   "source": [
    "from sklearn.metrics import accuracy_score\n",
    "\n",
    "print(\n",
    "    \"#TextBlob을 이용한 리뷰 감성분석의 정확도: \",\n",
    "    accuracy_score(categories, sentimnet_TextBlob(reviews))\n",
    ")"
   ],
   "metadata": {
    "collapsed": false
   }
  },
  {
   "cell_type": "markdown",
   "source": [
    "#### AFINN을 이용한 감성분석\n",
    "\n",
    "토큰화와 같은 작업을 알아서 해준다.\n",
    "\n",
    "score 함수를 가져와 극성을 판단한다.\n",
    "\n",
    "langauge : 영어 외의 다른 언어를 사용하고 싶은 경우\n",
    "emoticons : 이모티콘이 존재할 경우 True로 설정한다."
   ],
   "metadata": {
    "collapsed": false
   }
  },
  {
   "cell_type": "code",
   "execution_count": 13,
   "outputs": [
    {
     "name": "stdout",
     "output_type": "stream",
     "text": [
      "#Afinn을 이용한 리뷰 감성분석의 정확도:  0.664\n"
     ]
    }
   ],
   "source": [
    "from afinn import Afinn\n",
    "\n",
    "def dentiment_Affin(docs):\n",
    "    afn = Afinn(emoticons = True)\n",
    "    results = []\n",
    "\n",
    "    for doc in docs:\n",
    "        if afn.score(doc) > 0:\n",
    "            results.append('pos')\n",
    "        else:\n",
    "            results.append('neg')\n",
    "    return results\n",
    "\n",
    "from sklearn.metrics import accuracy_score\n",
    "\n",
    "print(\n",
    "    \"#Afinn을 이용한 리뷰 감성분석의 정확도: \",\n",
    "    accuracy_score(categories, dentiment_Affin(reviews))\n",
    ")"
   ],
   "metadata": {
    "collapsed": false
   }
  },
  {
   "cell_type": "markdown",
   "source": [
    "#### VADER를 이용한 감성 분석\n",
    "\n",
    "규칙 기반의 감성 분석 알고리즘을 사용하며, 트위터나 페이스북 같은 소셜 미디어의 텍스트에서 좋은 성능이 나올 수 있도록 개발되었다.\n",
    "NLTK 라이브러리에서 사용 가능하다.\n",
    "\n",
    "4개의 극성 값을 제공하는데 pos, neg, neu(중립)에 대한 값을 나타낸다.\n",
    "넷째 극성 값인 compound는 이 세 값을 적절히 조합해 -1과 1 사이의 극성 값을 제공한다."
   ],
   "metadata": {
    "collapsed": false
   }
  },
  {
   "cell_type": "code",
   "execution_count": 9,
   "outputs": [
    {
     "name": "stderr",
     "output_type": "stream",
     "text": [
      "[nltk_data] Downloading package vader_lexicon to\n",
      "[nltk_data]     C:\\Users\\ahyeo\\AppData\\Roaming\\nltk_data...\n"
     ]
    },
    {
     "data": {
      "text/plain": "True"
     },
     "execution_count": 9,
     "metadata": {},
     "output_type": "execute_result"
    }
   ],
   "source": [
    "import nltk\n",
    "nltk.download('vader_lexicon')"
   ],
   "metadata": {
    "collapsed": false
   }
  },
  {
   "cell_type": "code",
   "execution_count": 17,
   "outputs": [
    {
     "name": "stdout",
     "output_type": "stream",
     "text": [
      "#VADER를 이용한 리뷰 감성분석의 정확도:  0.635\n"
     ]
    }
   ],
   "source": [
    "from afinn import Afinn\n",
    "from nltk.sentiment.vader import SentimentIntensityAnalyzer\n",
    "\n",
    "def sentiment_vader(docs):\n",
    "    analyser= SentimentIntensityAnalyzer()\n",
    "    results = []\n",
    "\n",
    "    for doc in docs :\n",
    "        score = analyser.polarity_scores(doc)\n",
    "        if score['compound'] > 0:\n",
    "            results.append('pos')\n",
    "        else:\n",
    "            results.append('neg')\n",
    "\n",
    "    return results\n",
    "\n",
    "from sklearn.metrics import accuracy_score\n",
    "\n",
    "print(\n",
    "    \"#VADER를 이용한 리뷰 감성분석의 정확도: \",\n",
    "    accuracy_score(categories, sentiment_vader(reviews))\n",
    ")"
   ],
   "metadata": {
    "collapsed": false
   }
  },
  {
   "cell_type": "markdown",
   "source": [
    "#### 머신러닝 기반 감성 분석\n",
    "\n",
    "현재 데이터에 최적화되어 있기 때문에 감성 사전 보다 성능이 월등히 뛰어난 것을 볼 수 있다."
   ],
   "metadata": {
    "collapsed": false
   }
  },
  {
   "cell_type": "code",
   "execution_count": 18,
   "outputs": [
    {
     "name": "stdout",
     "output_type": "stream",
     "text": [
      "Train set size : 1600\n",
      "Test set size : 400\n"
     ]
    }
   ],
   "source": [
    "from sklearn.model_selection import train_test_split\n",
    "\n",
    "X_train, X_test, y_train, y_test = train_test_split(reviews, categories, test_size = 0.2, random_state= 7)\n",
    "\n",
    "print(\"Train set size :\" , len(X_train))\n",
    "print(\"Test set size :\", len(X_test))"
   ],
   "metadata": {
    "collapsed": false
   }
  },
  {
   "cell_type": "code",
   "execution_count": 19,
   "outputs": [
    {
     "name": "stdout",
     "output_type": "stream",
     "text": [
      "#Train set dimension :  (1600, 36189)\n",
      "#Test set dimension :  (400, 36189)\n",
      "Train set score : 0.998\n",
      "Test set score : 0.797\n"
     ]
    }
   ],
   "source": [
    "#TfidfVectorizer를 통한 TFIDF 변환\n",
    "#MultinomialNB를 사용한 성능 출력\n",
    "\n",
    "from sklearn.feature_extraction.text import TfidfVectorizer\n",
    "from sklearn.naive_bayes import MultinomialNB\n",
    "\n",
    "tfidf = TfidfVectorizer()\n",
    "X_train_tfidf = tfidf.fit_transform(X_train)\n",
    "print(\"#Train set dimension : \", X_train_tfidf.shape)\n",
    "\n",
    "X_test_tfidf = tfidf.transform(X_test)\n",
    "print(\"#Test set dimension : \", X_test_tfidf.shape)\n",
    "\n",
    "NB_clf = MultinomialNB(alpha = 0.01)\n",
    "NB_clf.fit(X_train_tfidf, y_train)\n",
    "\n",
    "print(\"Train set score : {:.3f}\".format(NB_clf.score(X_train_tfidf, y_train)))\n",
    "print(\"Test set score : {:.3f}\".format(NB_clf.score(X_test_tfidf, y_test)))"
   ],
   "metadata": {
    "collapsed": false
   }
  },
  {
   "cell_type": "code",
   "execution_count": 20,
   "outputs": [
    {
     "data": {
      "text/plain": "                                                  review  rating        date  \\\n0                                 돈 들인건 티가 나지만 보는 내내 하품만       1  2018.10.29   \n1           몰입할수밖에 없다. 어렵게 생각할 필요없다. 내가 전투에 참여한듯 손에 땀이남.      10  2018.10.26   \n2      이전 작품에 비해 더 화려하고 스케일도 커졌지만.... 전국 맛집의 음식들을 한데 ...       8  2018.10.24   \n3                                    이 정도면 볼만하다고 할 수 있음!       8  2018.10.22   \n4                                                   재미있다      10  2018.10.20   \n...                                                  ...     ...         ...   \n14720  어른들을 위한 동화    정말 오랜만에  좋은 애니를 보았습니다     가족의 소중...      10  2018.01.12   \n14721                                   디즈니는 못해도 본전은 한다.       7  2018.01.12   \n14722                            가족을 위한 영화... 괜찮은 영화.~~~       8  2018.01.12   \n14723      간만에 제대로 잘짜여진 각본의 영화를 봤네 여운이 아직도 남아~어른을 위한 애니~      10  2018.01.12   \n14724                   한국개봉을 눈빠지게 기다린 보람이있다 깨우치는게 많은 영화      10  2018.01.12   \n\n        title  \n0      인피니티 워  \n1      인피니티 워  \n2      인피니티 워  \n3      인피니티 워  \n4      인피니티 워  \n...       ...  \n14720      코코  \n14721      코코  \n14722      코코  \n14723      코코  \n14724      코코  \n\n[14725 rows x 4 columns]",
      "text/html": "<div>\n<style scoped>\n    .dataframe tbody tr th:only-of-type {\n        vertical-align: middle;\n    }\n\n    .dataframe tbody tr th {\n        vertical-align: top;\n    }\n\n    .dataframe thead th {\n        text-align: right;\n    }\n</style>\n<table border=\"1\" class=\"dataframe\">\n  <thead>\n    <tr style=\"text-align: right;\">\n      <th></th>\n      <th>review</th>\n      <th>rating</th>\n      <th>date</th>\n      <th>title</th>\n    </tr>\n  </thead>\n  <tbody>\n    <tr>\n      <th>0</th>\n      <td>돈 들인건 티가 나지만 보는 내내 하품만</td>\n      <td>1</td>\n      <td>2018.10.29</td>\n      <td>인피니티 워</td>\n    </tr>\n    <tr>\n      <th>1</th>\n      <td>몰입할수밖에 없다. 어렵게 생각할 필요없다. 내가 전투에 참여한듯 손에 땀이남.</td>\n      <td>10</td>\n      <td>2018.10.26</td>\n      <td>인피니티 워</td>\n    </tr>\n    <tr>\n      <th>2</th>\n      <td>이전 작품에 비해 더 화려하고 스케일도 커졌지만.... 전국 맛집의 음식들을 한데 ...</td>\n      <td>8</td>\n      <td>2018.10.24</td>\n      <td>인피니티 워</td>\n    </tr>\n    <tr>\n      <th>3</th>\n      <td>이 정도면 볼만하다고 할 수 있음!</td>\n      <td>8</td>\n      <td>2018.10.22</td>\n      <td>인피니티 워</td>\n    </tr>\n    <tr>\n      <th>4</th>\n      <td>재미있다</td>\n      <td>10</td>\n      <td>2018.10.20</td>\n      <td>인피니티 워</td>\n    </tr>\n    <tr>\n      <th>...</th>\n      <td>...</td>\n      <td>...</td>\n      <td>...</td>\n      <td>...</td>\n    </tr>\n    <tr>\n      <th>14720</th>\n      <td>어른들을 위한 동화    정말 오랜만에  좋은 애니를 보았습니다     가족의 소중...</td>\n      <td>10</td>\n      <td>2018.01.12</td>\n      <td>코코</td>\n    </tr>\n    <tr>\n      <th>14721</th>\n      <td>디즈니는 못해도 본전은 한다.</td>\n      <td>7</td>\n      <td>2018.01.12</td>\n      <td>코코</td>\n    </tr>\n    <tr>\n      <th>14722</th>\n      <td>가족을 위한 영화... 괜찮은 영화.~~~</td>\n      <td>8</td>\n      <td>2018.01.12</td>\n      <td>코코</td>\n    </tr>\n    <tr>\n      <th>14723</th>\n      <td>간만에 제대로 잘짜여진 각본의 영화를 봤네 여운이 아직도 남아~어른을 위한 애니~</td>\n      <td>10</td>\n      <td>2018.01.12</td>\n      <td>코코</td>\n    </tr>\n    <tr>\n      <th>14724</th>\n      <td>한국개봉을 눈빠지게 기다린 보람이있다 깨우치는게 많은 영화</td>\n      <td>10</td>\n      <td>2018.01.12</td>\n      <td>코코</td>\n    </tr>\n  </tbody>\n</table>\n<p>14725 rows × 4 columns</p>\n</div>"
     },
     "execution_count": 20,
     "metadata": {},
     "output_type": "execute_result"
    }
   ],
   "source": [
    "import pandas as pd\n",
    "\n",
    "df = pd.read_csv(\"C:/Users/ahyeo/OneDrive/문서/바탕 화면/Project2024/TextMining/Chapter02/daum_movie_review.csv\")\n",
    "df"
   ],
   "metadata": {
    "collapsed": false
   }
  },
  {
   "cell_type": "code",
   "execution_count": 22,
   "outputs": [
    {
     "data": {
      "text/plain": "<Figure size 640x480 with 1 Axes>",
      "image/png": "[encoded data removed]"
     },
     "metadata": {},
     "output_type": "display_data"
    }
   ],
   "source": [
    "import matplotlib.pyplot as plt\n",
    "%matplotlib inline\n",
    "\n",
    "df.rating.value_counts().sort_index().plot(kind = 'bar')\n",
    "plt.show() #불균형 데이터셋인 것을 확인할 수 있음 -> 정밀도와 재현율로 성능 판단"
   ],
   "metadata": {
    "collapsed": false
   }
  },
  {
   "cell_type": "code",
   "execution_count": 23,
   "outputs": [
    {
     "name": "stdout",
     "output_type": "stream",
     "text": [
      "#Train set size :  11043\n",
      "#Test set size :  3682\n"
     ]
    },
    {
     "name": "stderr",
     "output_type": "stream",
     "text": [
      "C:\\Users\\ahyeo\\anaconda3\\envs\\TextMining\\lib\\site-packages\\sklearn\\feature_extraction\\text.py:525: UserWarning: The parameter 'token_pattern' will not be used since 'tokenizer' is not None'\n",
      "  warnings.warn(\n"
     ]
    }
   ],
   "source": [
    "from sklearn.model_selection import train_test_split\n",
    "\n",
    "X_train, X_test, y_train, y_test = train_test_split(df.review, df.rating, random_state = 7)\n",
    "print(\"#Train set size : \", len(X_train))\n",
    "print(\"#Test set size : \", len(X_test))\n",
    "\n",
    "from konlpy.tag import Okt\n",
    "okt = Okt()\n",
    "\n",
    "def twit_tokenizer(text):\n",
    "    target_tags = ['Noun', 'Verb', 'Adjective'] #극성을 나타내는 명사, 동사, 형용사만 사용\n",
    "    result = []\n",
    "    for word, tag in okt.pos(text, norm = True, stem = True):\n",
    "        if tag in target_tags:\n",
    "            result.append(word)\n",
    "    return result\n",
    "\n",
    "tfidf = TfidfVectorizer(tokenizer=twit_tokenizer, max_features = 2000, min_df = 5, max_df = 0.5)\n",
    "\n",
    "X_train_tfidf = tfidf.fit_transform(X_train)\n",
    "X_test_tfidf = tfidf.transform(X_test)"
   ],
   "metadata": {
    "collapsed": false
   }
  },
  {
   "cell_type": "code",
   "execution_count": 24,
   "outputs": [
    {
     "name": "stdout",
     "output_type": "stream",
     "text": [
      "#Regression Train set R2 score : 0.605\n",
      "#Regression Test set R2 score : 0.395\n"
     ]
    }
   ],
   "source": [
    "from sklearn.linear_model import LinearRegression\n",
    "\n",
    "lr = LinearRegression()\n",
    "lr.fit(X_train_tfidf, y_train)\n",
    "print(\"#Regression Train set R2 score : {:.3f}\".format(lr.score(X_train_tfidf, y_train)))\n",
    "print(\"#Regression Test set R2 score : {:.3f}\".format(lr.score(X_test_tfidf, y_test)))"
   ],
   "metadata": {
    "collapsed": false
   }
  },
  {
   "cell_type": "code",
   "execution_count": 25,
   "outputs": [
    {
     "name": "stdout",
     "output_type": "stream",
     "text": [
      "#Accuracy for train set : 0.888\n",
      "#Precision for train set : 0.893\n",
      "#Recall for train set : 0.969\n",
      "#F1score for train set : 0.929\n",
      "#Accuracy for test set : 0.848\n",
      "#Precision for test set : 0.868\n",
      "#Recall for test set : 0.946\n",
      "#F1score for test set : 0.905\n"
     ]
    }
   ],
   "source": [
    "#rating 분류가 아닌 극성 분류로 변환 및 성능 평가\n",
    "y_train_senti = (y_train > 5)\n",
    "y_test_senti = (y_test > 5)\n",
    "\n",
    "y_train_predict = (lr.predict(X_train_tfidf) > 5)\n",
    "y_test_predict = (lr.predict(X_test_tfidf) > 5)\n",
    "\n",
    "from sklearn.metrics import precision_score, recall_score, f1_score\n",
    "\n",
    "print(\n",
    "    \"#Accuracy for train set : {:.3f}\".format(\n",
    "        accuracy_score(y_train_senti, y_train_predict)\n",
    "    )\n",
    ")\n",
    "print(\n",
    "        \"#Precision for train set : {:.3f}\".format(\n",
    "        precision_score(y_train_senti, y_train_predict)\n",
    "    )\n",
    ")\n",
    "print(\n",
    "        \"#Recall for train set : {:.3f}\".format(\n",
    "       recall_score(y_train_senti, y_train_predict)\n",
    "    )\n",
    ")\n",
    "print(\n",
    "    \"#F1score for train set : {:.3f}\".format(\n",
    "        f1_score(y_train_senti, y_train_predict)\n",
    "    )\n",
    ")\n",
    "\n",
    "print(\n",
    "    \"#Accuracy for test set : {:.3f}\".format(\n",
    "        accuracy_score(y_test_senti, y_test_predict)\n",
    "    )\n",
    ")\n",
    "print(\n",
    "        \"#Precision for test set : {:.3f}\".format(\n",
    "        precision_score(y_test_senti, y_test_predict)\n",
    "    )\n",
    ")\n",
    "print(\n",
    "        \"#Recall for test set : {:.3f}\".format(\n",
    "       recall_score(y_test_senti, y_test_predict)\n",
    "    )\n",
    ")\n",
    "print(\n",
    "    \"#F1score for test set : {:.3f}\".format(\n",
    "        f1_score(y_test_senti, y_test_predict)\n",
    "    )\n",
    ")\n"
   ],
   "metadata": {
    "collapsed": false
   }
  },
  {
   "cell_type": "code",
   "execution_count": 26,
   "outputs": [
    {
     "name": "stdout",
     "output_type": "stream",
     "text": [
      "#Accuracy for train set : 0.878\n",
      "#Precision for train set : 0.878\n",
      "#Recall for train set : 0.973\n",
      "#F1score for train set : 0.923\n",
      "#Accuracy for test set : 0.855\n",
      "#Precision for test set : 0.866\n",
      "#Recall for test set : 0.958\n",
      "#F1score for test set : 0.910\n"
     ]
    }
   ],
   "source": [
    "#logistic regression 사용\n",
    "from sklearn.linear_model import LogisticRegression\n",
    "\n",
    "#count vector에 대해 regression을 해 NB 비교\n",
    "LR_clf = LogisticRegression()\n",
    "LR_clf.fit(X_train_tfidf, y_train_senti)\n",
    "\n",
    "y_train_predict = LR_clf.predict(X_train_tfidf)\n",
    "y_test_predict = LR_clf.predict(X_test_tfidf)\n",
    "\n",
    "print(\n",
    "    \"#Accuracy for train set : {:.3f}\".format(\n",
    "        accuracy_score(y_train_senti, y_train_predict)\n",
    "    )\n",
    ")\n",
    "print(\n",
    "        \"#Precision for train set : {:.3f}\".format(\n",
    "        precision_score(y_train_senti, y_train_predict)\n",
    "    )\n",
    ")\n",
    "print(\n",
    "        \"#Recall for train set : {:.3f}\".format(\n",
    "       recall_score(y_train_senti, y_train_predict)\n",
    "    )\n",
    ")\n",
    "print(\n",
    "    \"#F1score for train set : {:.3f}\".format(\n",
    "        f1_score(y_train_senti, y_train_predict)\n",
    "    )\n",
    ")\n",
    "\n",
    "print(\n",
    "    \"#Accuracy for test set : {:.3f}\".format(\n",
    "        accuracy_score(y_test_senti, y_test_predict)\n",
    "    )\n",
    ")\n",
    "print(\n",
    "        \"#Precision for test set : {:.3f}\".format(\n",
    "        precision_score(y_test_senti, y_test_predict)\n",
    "    )\n",
    ")\n",
    "print(\n",
    "        \"#Recall for test set : {:.3f}\".format(\n",
    "       recall_score(y_test_senti, y_test_predict)\n",
    "    )\n",
    ")\n",
    "print(\n",
    "    \"#F1score for test set : {:.3f}\".format(\n",
    "        f1_score(y_test_senti, y_test_predict)\n",
    "    )\n",
    ")"
   ],
   "metadata": {
    "collapsed": false
   }
  }
 ],
 "metadata": {
  "kernelspec": {
   "display_name": "Python 3",
   "language": "python",
   "name": "python3"
  },
  "language_info": {
   "codemirror_mode": {
    "name": "ipython",
    "version": 2
   },
   "file_extension": ".py",
   "mimetype": "text/x-python",
   "name": "python",
   "nbconvert_exporter": "python",
   "pygments_lexer": "ipython2",
   "version": "2.7.6"
  }
 },
 "nbformat": 4,
 "nbformat_minor": 0
}
