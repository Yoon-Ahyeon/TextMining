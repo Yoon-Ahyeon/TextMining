{
 "cells": [
  {
   "cell_type": "markdown",
   "source": [
    "## 한국어 문서에 대한 BERT 활용\n",
    "\n",
    "다중 언어 BERT 사전학습 모형의 미세조정 학습\n",
    "\n",
    "BERT는 영어 이외에도 사전학습 모형을 지원한다.\n",
    "언어 모델로만 학습한 기본 학습 모형으로 bert-base-multilingual-uncased, bert-base-multilingual-cased가 있다.\n",
    "현재, bert-base-multilingual-cased가 더 많이 추천되고 있다.\n",
    "\n",
    "<한국어에 특화된 BERT 모형>\n",
    "1 . SKTBrain의 KoBERT\n",
    "2 . ETRI의 KorBERT (사용허가협약서가 필요)"
   ],
   "metadata": {
    "collapsed": false
   }
  },
  {
   "cell_type": "code",
   "execution_count": 1,
   "outputs": [
    {
     "name": "stdout",
     "output_type": "stream",
     "text": [
      "#Train set size : 8282\n",
      "#Validation set size : 2761\n",
      "#Test set size : 3682\n"
     ]
    }
   ],
   "source": [
    "#### 영화 리뷰를 읽기\n",
    "\n",
    "import pandas as pd\n",
    "import numpy as np\n",
    "from sklearn.model_selection import train_test_split\n",
    "\n",
    "df = pd.read_csv(\"C:/Users/ahyeo/OneDrive/문서/바탕 화면/Project2024/TextMining/Chapter02/data/daum_movie_review.csv\")\n",
    "#rating이 6보다 작으면 부정, 그 반대면 긍정\n",
    "y = [0 if rate < 6 else 1 for rate in df.rating]\n",
    "#데이터셋 분리\n",
    "X_train_val, X_test, y_train_val, y_test = train_test_split(df.review.tolist(), y, random_state=0)\n",
    "X_train, X_val, y_train, y_val = train_test_split(X_train_val, y_train_val, random_state = 0)\n",
    "\n",
    "print('#Train set size :', len(X_train))\n",
    "print('#Validation set size :', len(X_val))\n",
    "print('#Test set size :', len(X_test))"
   ],
   "metadata": {
    "collapsed": false
   }
  }
 ],
 "metadata": {
  "kernelspec": {
   "display_name": "Python 3",
   "language": "python",
   "name": "python3"
  },
  "language_info": {
   "codemirror_mode": {
    "name": "ipython",
    "version": 2
   },
   "file_extension": ".py",
   "mimetype": "text/x-python",
   "name": "python",
   "nbconvert_exporter": "python",
   "pygments_lexer": "ipython2",
   "version": "2.7.6"
  }
 },
 "nbformat": 4,
 "nbformat_minor": 0
}
