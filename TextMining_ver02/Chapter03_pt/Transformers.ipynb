{
 "cells": [
  {
   "cell_type": "markdown",
   "source": [
    "## Transformer 변형 모형의 현황\n",
    "\n",
    "Transformer 변형 모형 : BERT와 GPT 같이 트랜스포머의 모형을 변형하여 만들어진 셀프-어텐션 기반의 모든 딥러닝 모형을 말한다."
   ],
   "metadata": {
    "collapsed": false
   }
  },
  {
   "cell_type": "markdown",
   "source": [
    "### Transformer 변형 모형의 다양한 Tokenizer"
   ],
   "metadata": {
    "collapsed": false
   }
  },
  {
   "cell_type": "markdown",
   "source": [
    "#### BPE(Byte-Pair-Encoding)\n",
    "\n",
    "BPE는 원래의 데이터 압축 알고리즘이었지만, 자연어 처리 토크나이저에 사용되면서 대표적인 subword 분리 알고리즘이 되었다.\n",
    "subword : Hello -> he/el/ll/lo 이런식으로 나누는 것\n",
    "\n",
    "초기 어휘사전을 문자 단위로 구성하고 말뭉치에서 빈도가 높은 쌍을 단계적으로 통합하는 방식으로 서브워드를 만들어간다.\n",
    "\n",
    "단어를 문자단위로 쪼개고, 빈도에 맞게 단어를 결합한다.\n",
    "IF, (hug, 10), (pug, 10) / (pun, 5), (fun, 6) 출현\n",
    "'ug' -> 'un'을 vocabulary에 추가한다.\n",
    "이런식으로 어휘사전의 크기가 1,00이 될 때까지 반복한다."
   ],
   "metadata": {
    "collapsed": false
   }
  },
  {
   "cell_type": "markdown",
   "source": [
    "#### WordPiece Tokenizer\n",
    "\n",
    "구글 번역기는 BPE를 변형한 워드피스  토크나이저를 이용해 토큰화를 수행한다.\n",
    "워드피스 토크나이저는 말뭉치의 likehood를 높이는 쌍을 선택하여 병합한다.\n",
    "-> 이는 인접한 토큰 쌍에 대해 개별적인 토큰의 빈도를 곱한 값에 비해 토큰 쌍의 빈도가 큰 것을 먼저 선택하는 것\n",
    "= 개별적으로 나타날 일이 많은 단어보다는 쌍으로 나타날 일이 많은 단어를 선택한다.\n",
    "= 토큰 각각은 잘 사용되지 않지만, 합쳐서 사용할 일이 많은 것을 선택하겠다.\n",
    "-> 이로 인해 개별 토큰의 수는 줄어들게 된다. (말뭉치에서 비중이 작은 개별 토큰이 더 빨리 병합되고 그 수도 더 빨리 줄어든다.)\n",
    "\n",
    "h, ##u, ##g 이런식으로 표현하여 앞에 문자가 나타나는 단어들을 쌍으로 만든다. (빈도 계산)"
   ],
   "metadata": {
    "collapsed": false
   }
  },
  {
   "cell_type": "markdown",
   "source": [
    "#### sentenpiece Tokenizer\n",
    "\n",
    "구글에서 공개한 패키지로 토큰화를 위해 유니그램 토큰화 알고리즘을 지원한다.\n",
    "유니그램 토큰화는 모든 가능한 어휘집합에서 시작하여 토큰을 제거한다.\n",
    "유니그램 토큰화는 주어진 어휘집합에 대해 말뭉치의 손실(loss)를 정의한다.\n",
    "어휘집합에서 토큰을 제거하면, 이 손실의 값이 증가하는데 이 손실을 가장 적제 증가시키는 토큰을 선택해 제거한다.\n",
    "\n",
    "Q. 손실의 정의?\n",
    "어떤 단어가 주어졌을 때, 어휘집합과 각 어휘의 확률이 있다면 이 단어가 특정 토큰 집합으로 토큰화될 확률을 구할 수 있다.\n",
    "<p, u, g> / <pu, g>로 나타날 확률에 대해 계산을 하고 가장 높은 확률을 계산하여 손실을 구한다."
   ],
   "metadata": {
    "collapsed": false
   }
  }
 ],
 "metadata": {
  "kernelspec": {
   "display_name": "Python 3",
   "language": "python",
   "name": "python3"
  },
  "language_info": {
   "codemirror_mode": {
    "name": "ipython",
    "version": 2
   },
   "file_extension": ".py",
   "mimetype": "text/x-python",
   "name": "python",
   "nbconvert_exporter": "python",
   "pygments_lexer": "ipython2",
   "version": "2.7.6"
  }
 },
 "nbformat": 4,
 "nbformat_minor": 0
}
